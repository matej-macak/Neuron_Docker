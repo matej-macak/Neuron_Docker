{
 "cells": [
  {
   "cell_type": "code",
   "execution_count": 2,
   "metadata": {},
   "outputs": [
    {
     "name": "stdout",
     "output_type": "stream",
     "text": [
      "base_step [0.1 1.  2.  4.  8. ]\n",
      "dend_diam [1.]\n",
      "dend_length [ 50. 100. 200.]\n",
      "soma_diam [25. 50.]\n",
      "synapses [16.]\n"
     ]
    },
    {
     "data": {
      "application/vnd.jupyter.widget-view+json": {
       "model_id": "a32a0053d0eb4bc187b03ec53c95a71d",
       "version_major": 2,
       "version_minor": 0
      },
      "text/plain": [
       "FigureCanvasNbAgg()"
      ]
     },
     "metadata": {},
     "output_type": "display_data"
    },
    {
     "data": {
      "text/plain": [
       "<matplotlib.axes._subplots.AxesSubplot at 0x7fce3289a208>"
      ]
     },
     "execution_count": 2,
     "metadata": {},
     "output_type": "execute_result"
    }
   ],
   "source": [
    "%matplotlib ipympl\n",
    "import matplotlib.pyplot as plt\n",
    "import pandas as pd\n",
    "import numpy as np\n",
    "import seaborn as sns\n",
    "\n",
    "data = pd.read_csv(\"/shared/Data/simulation_results.csv\")\n",
    "data[\"diff\"] = data[\"IN\"] - data[\"OUT\"]\n",
    "\n",
    "# fig, ax = plt.subplots()\n",
    "\n",
    "for col in [\"base_step\", \"dend_diam\", \"dend_length\", \"soma_diam\", \"synapses\"]:\n",
    "    \n",
    "    print(col, data[col].unique())\n",
    "\n",
    "settings = {\"base_step\": 2.0, \n",
    "            \"dend_diam\": 1.0, \n",
    "            \"dend_length\": 200, \n",
    "            \"soma_diam\": 50}\n",
    "\n",
    "temp = data[np.sum(np.array([data[col] == settings[col] for col in settings]).T, axis = 1) == len(settings)]\n",
    "\n",
    "ax = sns.heatmap(temp[\"diff\"].values.reshape((100,100)))"
   ]
  }
 ],
 "metadata": {
  "kernelspec": {
   "display_name": "Python 3",
   "language": "python",
   "name": "python3"
  },
  "language_info": {
   "codemirror_mode": {
    "name": "ipython",
    "version": 3
   },
   "file_extension": ".py",
   "mimetype": "text/x-python",
   "name": "python",
   "nbconvert_exporter": "python",
   "pygments_lexer": "ipython3",
   "version": "3.6.8"
  }
 },
 "nbformat": 4,
 "nbformat_minor": 2
}
